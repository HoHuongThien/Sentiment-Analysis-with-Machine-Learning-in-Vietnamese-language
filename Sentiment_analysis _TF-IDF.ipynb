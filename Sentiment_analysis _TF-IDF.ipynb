{
 "cells": [
  {
   "cell_type": "code",
   "execution_count": 1,
   "metadata": {},
   "outputs": [],
   "source": [
    "# Import những thư viện cần thiết\n",
    "\n",
    "import numpy as np\n",
    "import re\n",
    "import nltk\n",
    "from sklearn.datasets import load_files\n",
    "import pickle\n",
    "from pyvi import ViTokenizer"
   ]
  },
  {
   "cell_type": "code",
   "execution_count": 2,
   "metadata": {},
   "outputs": [],
   "source": [
    "# Load training data file\n",
    "\n",
    "training_data = load_files(r\"./aug2\", encoding=\"utf-8\")\n",
    "X, y = training_data.data, training_data.target"
   ]
  },
  {
   "cell_type": "code",
   "execution_count": 3,
   "metadata": {},
   "outputs": [
    {
     "name": "stdout",
     "output_type": "stream",
     "text": [
      "2\n"
     ]
    }
   ],
   "source": [
    "print(len(X))"
   ]
  },
  {
   "cell_type": "code",
   "execution_count": 4,
   "metadata": {},
   "outputs": [],
   "source": [
    "# Load file chứa các từ stop_words\n",
    "\n",
    "stop_ws = []\n",
    "with open(\"vnstopword.txt\", encoding=\"utf-8\") as f :\n",
    "    text = f.read()\n",
    "    for word in text.split('\\n') :  #Tách ra mỗi dòng là 1 từ stopword riêng lẻ\n",
    "        stop_ws.append(word)\n",
    "    f.close()"
   ]
  },
  {
   "cell_type": "code",
   "execution_count": 5,
   "metadata": {},
   "outputs": [
    {
     "ename": "KeyboardInterrupt",
     "evalue": "",
     "output_type": "error",
     "traceback": [
      "\u001b[1;31m---------------------------------------------------------------------------\u001b[0m",
      "\u001b[1;31mKeyboardInterrupt\u001b[0m                         Traceback (most recent call last)",
      "\u001b[1;32m<ipython-input-5-c15af25cd8e5>\u001b[0m in \u001b[0;36m<module>\u001b[1;34m\u001b[0m\n\u001b[0;32m     33\u001b[0m \u001b[1;33m\u001b[0m\u001b[0m\n\u001b[0;32m     34\u001b[0m     \u001b[1;31m# Tokenization\u001b[0m\u001b[1;33m\u001b[0m\u001b[1;33m\u001b[0m\u001b[1;33m\u001b[0m\u001b[0m\n\u001b[1;32m---> 35\u001b[1;33m     \u001b[0mdocument\u001b[0m \u001b[1;33m=\u001b[0m \u001b[0mViTokenizer\u001b[0m\u001b[1;33m.\u001b[0m\u001b[0mtokenize\u001b[0m\u001b[1;33m(\u001b[0m\u001b[0mdocument\u001b[0m\u001b[1;33m)\u001b[0m\u001b[1;33m\u001b[0m\u001b[1;33m\u001b[0m\u001b[0m\n\u001b[0m\u001b[0;32m     36\u001b[0m \u001b[1;33m\u001b[0m\u001b[0m\n\u001b[0;32m     37\u001b[0m     \u001b[0mdocument\u001b[0m \u001b[1;33m=\u001b[0m \u001b[1;34m''\u001b[0m\u001b[1;33m.\u001b[0m\u001b[0mjoin\u001b[0m\u001b[1;33m(\u001b[0m\u001b[0mdocument\u001b[0m\u001b[1;33m)\u001b[0m\u001b[1;33m\u001b[0m\u001b[1;33m\u001b[0m\u001b[0m\n",
      "\u001b[1;32m~\\anaconda3\\lib\\site-packages\\pyvi\\ViTokenizer.py\u001b[0m in \u001b[0;36mtokenize\u001b[1;34m(str)\u001b[0m\n\u001b[0;32m    154\u001b[0m \u001b[1;33m\u001b[0m\u001b[0m\n\u001b[0;32m    155\u001b[0m \u001b[1;32mdef\u001b[0m \u001b[0mtokenize\u001b[0m\u001b[1;33m(\u001b[0m\u001b[0mstr\u001b[0m\u001b[1;33m)\u001b[0m\u001b[1;33m:\u001b[0m\u001b[1;33m\u001b[0m\u001b[1;33m\u001b[0m\u001b[0m\n\u001b[1;32m--> 156\u001b[1;33m     \u001b[1;32mreturn\u001b[0m \u001b[0mViTokenizer\u001b[0m\u001b[1;33m.\u001b[0m\u001b[0mtokenize\u001b[0m\u001b[1;33m(\u001b[0m\u001b[0mstr\u001b[0m\u001b[1;33m)\u001b[0m\u001b[1;33m\u001b[0m\u001b[1;33m\u001b[0m\u001b[0m\n\u001b[0m\u001b[0;32m    157\u001b[0m \u001b[1;33m\u001b[0m\u001b[0m\n",
      "\u001b[1;32m~\\anaconda3\\lib\\site-packages\\pyvi\\ViTokenizer.py\u001b[0m in \u001b[0;36mtokenize\u001b[1;34m(str)\u001b[0m\n\u001b[0;32m    123\u001b[0m                     \u001b[1;32mnot\u001b[0m \u001b[0mtmp\u001b[0m\u001b[1;33m[\u001b[0m\u001b[0mi\u001b[0m\u001b[1;33m]\u001b[0m\u001b[1;33m[\u001b[0m\u001b[1;36m0\u001b[0m\u001b[1;33m]\u001b[0m\u001b[1;33m.\u001b[0m\u001b[0misdigit\u001b[0m\u001b[1;33m(\u001b[0m\u001b[1;33m)\u001b[0m \u001b[1;32mand\u001b[0m \u001b[1;32mnot\u001b[0m \u001b[0mtmp\u001b[0m\u001b[1;33m[\u001b[0m\u001b[0mi\u001b[0m\u001b[1;33m-\u001b[0m\u001b[1;36m1\u001b[0m\u001b[1;33m]\u001b[0m\u001b[1;33m[\u001b[0m\u001b[1;36m0\u001b[0m\u001b[1;33m]\u001b[0m\u001b[1;33m.\u001b[0m\u001b[0misdigit\u001b[0m\u001b[1;33m(\u001b[0m\u001b[1;33m)\u001b[0m\u001b[0;31m\\\u001b[0m\u001b[1;33m\u001b[0m\u001b[1;33m\u001b[0m\u001b[0m\n\u001b[0;32m    124\u001b[0m                     \u001b[1;32mand\u001b[0m \u001b[1;32mnot\u001b[0m \u001b[1;33m(\u001b[0m\u001b[0mtmp\u001b[0m\u001b[1;33m[\u001b[0m\u001b[0mi\u001b[0m\u001b[1;33m]\u001b[0m\u001b[1;33m[\u001b[0m\u001b[1;36m0\u001b[0m\u001b[1;33m]\u001b[0m\u001b[1;33m.\u001b[0m\u001b[0mistitle\u001b[0m\u001b[1;33m(\u001b[0m\u001b[1;33m)\u001b[0m \u001b[1;32mand\u001b[0m \u001b[1;32mnot\u001b[0m \u001b[0mtmp\u001b[0m\u001b[1;33m[\u001b[0m\u001b[0mi\u001b[0m\u001b[1;33m-\u001b[0m\u001b[1;36m1\u001b[0m\u001b[1;33m]\u001b[0m\u001b[1;33m[\u001b[0m\u001b[1;36m0\u001b[0m\u001b[1;33m]\u001b[0m\u001b[1;33m.\u001b[0m\u001b[0mistitle\u001b[0m\u001b[1;33m(\u001b[0m\u001b[1;33m)\u001b[0m\u001b[1;33m)\u001b[0m\u001b[1;33m:\u001b[0m\u001b[1;33m\u001b[0m\u001b[1;33m\u001b[0m\u001b[0m\n\u001b[1;32m--> 125\u001b[1;33m                 \u001b[0moutput\u001b[0m \u001b[1;33m=\u001b[0m \u001b[0moutput\u001b[0m \u001b[1;33m+\u001b[0m \u001b[1;34m'_'\u001b[0m \u001b[1;33m+\u001b[0m \u001b[0mtmp\u001b[0m\u001b[1;33m[\u001b[0m\u001b[0mi\u001b[0m\u001b[1;33m]\u001b[0m\u001b[1;33m\u001b[0m\u001b[1;33m\u001b[0m\u001b[0m\n\u001b[0m\u001b[0;32m    126\u001b[0m             \u001b[1;32melse\u001b[0m\u001b[1;33m:\u001b[0m\u001b[1;33m\u001b[0m\u001b[1;33m\u001b[0m\u001b[0m\n\u001b[0;32m    127\u001b[0m                 \u001b[0moutput\u001b[0m \u001b[1;33m=\u001b[0m \u001b[0moutput\u001b[0m \u001b[1;33m+\u001b[0m \u001b[1;34m' '\u001b[0m \u001b[1;33m+\u001b[0m \u001b[0mtmp\u001b[0m\u001b[1;33m[\u001b[0m\u001b[0mi\u001b[0m\u001b[1;33m]\u001b[0m\u001b[1;33m\u001b[0m\u001b[1;33m\u001b[0m\u001b[0m\n",
      "\u001b[1;31mKeyboardInterrupt\u001b[0m: "
     ]
    }
   ],
   "source": [
    "# Tiền xử lý cho tập dữ liệu training\n",
    "documents = []\n",
    "sum_word = 0\n",
    "for sen in range(0, len(X)):\n",
    "    \n",
    "    # remove stop word\n",
    "    document = []\n",
    "    for word in str(X[sen]).split() :\n",
    "        sum_word = sum_word + 1         # Đếm tổng số từ trong tập dữ liệu\n",
    "        if (word not in stop_ws) :\n",
    "            if (\"_\" in word) or (word.isalpha() == True):\n",
    "                document.append(word)\n",
    "    #print(document)\n",
    "    document = ' '.join(document)\n",
    "\n",
    "    # Loại bỏ Hashtag\n",
    "    #document = re.sub(r'#([^\\s]+)', '', str(X[sen]))\n",
    "    document = re.sub(r'#([^\\s]+)', '', document)\n",
    "    # Loại bỏ các URL\n",
    "    document = re.sub(r'http([^\\s]+)', '', document)\n",
    "    # Loại bỏ number có trong comment\n",
    "    document = re.sub(r'\\d+', '', document)\n",
    "    # Loại bỏ các dấu câu, các ký tự đặc biệt (Emoji, icon cũng bị remove)\n",
    "    document = re.sub(r'[^\\w\\s]','', document)\n",
    "    # Chuyển chữ in hoa thành chữ thường\n",
    "    document = document.lower()\n",
    "    # Loại bỏ các ký tự dư thừa đơn lẻ (Nhiều ký tự đơn lẻ liền nhau kg xử lý được)\n",
    "    document = re.sub(r'\\s+[a-zA-Z]\\s+', ' ', document)\n",
    "    # Loại bỏ các Emoji, icon\n",
    "    document = re.sub(r'[^\\w\\s,]', '', document)\n",
    "    # Loại bỏ nhiều khoảng trắng dư thừa\n",
    "     #document = re.sub(r'\\s+', ' ', document, flags=re.I)\n",
    "    \n",
    "    # Tokenization\n",
    "    document = ViTokenizer.tokenize(document)\n",
    "    \n",
    "    document = ''.join(document)\n",
    "    \n",
    "    documents.append(document)\n",
    "    "
   ]
  },
  {
   "cell_type": "code",
   "execution_count": 6,
   "metadata": {
    "scrolled": true
   },
   "outputs": [
    {
     "name": "stdout",
     "output_type": "stream",
     "text": [
      "10000\n"
     ]
    }
   ],
   "source": [
    "# Số lượng câu trong tập dữ liệu\n",
    "print(len(documents))"
   ]
  },
  {
   "cell_type": "code",
   "execution_count": 7,
   "metadata": {},
   "outputs": [
    {
     "name": "stdout",
     "output_type": "stream",
     "text": [
      "1003237\n"
     ]
    }
   ],
   "source": [
    "# Số lượng word trong tập dữ liệu\n",
    "print(sum_word)"
   ]
  },
  {
   "cell_type": "code",
   "execution_count": 8,
   "metadata": {},
   "outputs": [
    {
     "name": "stderr",
     "output_type": "stream",
     "text": [
      "C:\\Users\\ADMIN\\anaconda3\\lib\\site-packages\\sklearn\\feature_extraction\\text.py:385: UserWarning: Your stop_words may be inconsistent with your preprocessing. Tokenizing the stop words generated tokens ['bất', 'gian', 'hầu', 'hết', 'kỳ', 'sự', 'thể', 'thời', 'thực', 'tất'] not in stop_words.\n",
      "  'stop_words.' % sorted(inconsistent))\n"
     ]
    }
   ],
   "source": [
    "# Converting Text to number by TF-IDF\n",
    "\n",
    "from sklearn.feature_extraction.text import TfidfVectorizer\n",
    "tfidfconverter = TfidfVectorizer(max_features=1500, min_df=5, max_df=0.7, stop_words=stop_ws)\n",
    "\n",
    "X = tfidfconverter.fit_transform(documents).toarray()"
   ]
  },
  {
   "cell_type": "code",
   "execution_count": 9,
   "metadata": {},
   "outputs": [],
   "source": [
    "# Phân chia dữ liệu thành 2 phần: Training và Testing\n",
    "# X là data, y là label\n",
    "\n",
    "from sklearn.model_selection import train_test_split\n",
    "X_train, X_test, y_train, y_test = train_test_split(X, y, test_size=0.2, random_state=0)"
   ]
  },
  {
   "cell_type": "code",
   "execution_count": 10,
   "metadata": {},
   "outputs": [
    {
     "name": "stdout",
     "output_type": "stream",
     "text": [
      "Thời gian huấn luyện:  0.07124686241149902  giây\n"
     ]
    }
   ],
   "source": [
    "# Xây dựng mô hình huấn luyện bằng NaiveBayes\n",
    "\n",
    "import time\n",
    "from sklearn.naive_bayes import BernoulliNB\n",
    "\n",
    "# Thêm biến này vào để kiểm tra thời gian huấn luyện\n",
    "start_NB = time.time()\n",
    "\n",
    "\n",
    "classifier_NB = BernoulliNB(binarize=None)\n",
    "classifier_NB.fit(X_train, y_train)\n",
    "\n",
    "end_NB = time.time()\n",
    "time_NB = end_NB-start_NB\n",
    "\n",
    "#Show ra thời gian huấn luyện của mô hình\n",
    "#print(\"Thời gian huấn luyện: %s second\" % str(end-start))\n",
    "print(\"Thời gian huấn luyện: \", str(time_NB), \" giây\")"
   ]
  },
  {
   "cell_type": "code",
   "execution_count": 11,
   "metadata": {},
   "outputs": [
    {
     "name": "stdout",
     "output_type": "stream",
     "text": [
      "Thời gian huấn luyện:  145.80549120903015  giây\n"
     ]
    }
   ],
   "source": [
    "# Xây dựng mô hình huấn luyện bằng Random Forest\n",
    "import time\n",
    "from sklearn.ensemble import RandomForestClassifier\n",
    "\n",
    "# Thêm biến này vào để kiểm tra thời gian huấn luyện\n",
    "start_RF = time.time()\n",
    "\n",
    "classifier_RF = RandomForestClassifier(n_estimators=1000, random_state=0)\n",
    "classifier_RF.fit(X_train, y_train) \n",
    "\n",
    "end_RF = time.time()\n",
    "time_RF = end_RF-start_RF\n",
    "\n",
    "#Show ra thời gian huấn luyện của mô hình\n",
    "#print(\"Thời gian huấn luyện: %s second\" % str(end-start))\n",
    "print(\"Thời gian huấn luyện: \", str(time_RF), \" giây\")"
   ]
  },
  {
   "cell_type": "code",
   "execution_count": 12,
   "metadata": {},
   "outputs": [
    {
     "name": "stdout",
     "output_type": "stream",
     "text": [
      "Thời gian huấn luyện:  64.2354199886322  giây\n"
     ]
    }
   ],
   "source": [
    "# Xây dựng mô hình huấn luyện bằng SVM\n",
    "import time\n",
    "\n",
    "from sklearn.svm import SVC\n",
    "\n",
    "# Thêm biến này vào để kiểm tra thời gian huấn luyện\n",
    "start_SVM = time.time()\n",
    "\n",
    "classifier_SVM = SVC(kernel = 'linear', random_state = 0)\n",
    "classifier_SVM.fit(X_train, y_train)\n",
    "\n",
    "\n",
    "end_SVM = time.time()\n",
    "time_SVM = end_SVM-start_SVM\n",
    "\n",
    "#Show ra thời gian huấn luyện của mô hình\n",
    "#print(\"Thời gian huấn luyện: %s second\" % str(end-start))\n",
    "print(\"Thời gian huấn luyện: \", str(time_SVM), \" giây\")"
   ]
  },
  {
   "cell_type": "code",
   "execution_count": 13,
   "metadata": {},
   "outputs": [],
   "source": [
    "# Predicting Sentiment\n",
    "\n",
    "y_pred_NB = classifier_NB.predict(X_test)\n",
    "\n",
    "y_pred_RF = classifier_RF.predict(X_test)\n",
    "\n",
    "y_pred_SVM = classifier_SVM.predict(X_test)\n"
   ]
  },
  {
   "cell_type": "code",
   "execution_count": 14,
   "metadata": {},
   "outputs": [
    {
     "name": "stdout",
     "output_type": "stream",
     "text": [
      "Accuracy of Naive Bayes: 0.8295\n",
      "Accuracy of Random Forest: 0.8385\n",
      "Accuracy of SVM: 0.8565\n"
     ]
    }
   ],
   "source": [
    "from sklearn.metrics import classification_report, confusion_matrix, accuracy_score\n",
    "\n",
    "print('Accuracy of Naive Bayes:',accuracy_score(y_test, y_pred_NB))\n",
    "print('Accuracy of Random Forest:',accuracy_score(y_test, y_pred_RF))\n",
    "print('Accuracy of SVM:',accuracy_score(y_test, y_pred_SVM))"
   ]
  },
  {
   "cell_type": "code",
   "execution_count": 15,
   "metadata": {},
   "outputs": [
    {
     "name": "stdout",
     "output_type": "stream",
     "text": [
      "Training time of NB: 0.07124686241149902\n",
      "Training time of RF: 145.80549120903015\n",
      "Training time of SVM: 64.2354199886322\n"
     ]
    }
   ],
   "source": [
    "print('Training time of NB:',time_NB)\n",
    "print('Training time of RF:',time_RF)\n",
    "print('Training time of SVM:',time_SVM)"
   ]
  },
  {
   "cell_type": "code",
   "execution_count": null,
   "metadata": {},
   "outputs": [],
   "source": []
  }
 ],
 "metadata": {
  "kernelspec": {
   "display_name": "Python 3",
   "language": "python",
   "name": "python3"
  },
  "language_info": {
   "codemirror_mode": {
    "name": "ipython",
    "version": 3
   },
   "file_extension": ".py",
   "mimetype": "text/x-python",
   "name": "python",
   "nbconvert_exporter": "python",
   "pygments_lexer": "ipython3",
   "version": "3.7.6"
  }
 },
 "nbformat": 4,
 "nbformat_minor": 2
}
